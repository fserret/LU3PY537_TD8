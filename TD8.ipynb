{
 "cells": [
  {
   "attachments": {},
   "cell_type": "markdown",
   "metadata": {
    "id": "-T4MIHw2y5uf",
    "tags": []
   },
   "source": [
    "# TD 8 - Algorithme Variationnel et Modèle de Heisenberg"
   ]
  },
  {
   "attachments": {},
   "cell_type": "markdown",
   "metadata": {
    "id": "LELWoULjy5uj"
   },
   "source": [
    "Nous considérons deux spins $\\frac{1}{2}$ en interaction avec une constante d'échange $J > 0$. \n",
    "Pour représenter ce système, nous considérons un espace de Hilbert $\\mathcal H = \\mathbb{CP}_1\\otimes \\mathbb{CP}_1$ avec $\\mathbb{CP}_1$ la sphere de Bloch.\n",
    "Le Hamiltonien correspondant est:\n",
    "$$ H = J\\vec{\\sigma}_1\\cdot \\vec{\\sigma}_2 = J\\sigma^X_1 \\sigma^X_2 + J\\sigma^Y_1 \\sigma^Y_2 + J\\sigma^Z_1 \\sigma^Z_2 $$\n",
    "avec pour $P\\in\\{X, Y, Z\\}$ et $n\\in\\{1,2\\}$,  $\\sigma^P_n$ la matrice de Pauli $P$ associée au qubit $n$.\n",
    "\n",
    "Nous avons par définition de l'état fondamental $|{\\phi_{GS}}\\rangle$, que:\n",
    "$$\\forall |\\psi\\rangle \\in \\mathcal H, \\qquad \\langle \\psi|H|\\psi\\rangle \\geq \\langle{\\phi_{GS}}|H|{\\phi_{GS}}\\rangle $$\n",
    "\n",
    "Ainsi, afin de trouver l'état fondamental de ce système, nous utilisons la méthode variationnelle qui consiste à minimiser une energie sur un ensemble d'états paramétriques $$X=\\left\\{|\\psi_\\theta\\rangle\\in \\mathbb C^N\\text{ such that }\\|\\psi_\\theta\\|_2=1 | \\theta \\in \\Theta \\right\\},$$ avec $\\theta$ le vecteur des paramètres et $\\Theta$ l'ensemble des paramètres valides, par exemple pour un ansatz avec une unique porte RY appliqué au premier qubit, nous aurions $X=\\left\\{R_Y(\\theta)|0\\rangle\\,|\\theta \\in \\Theta\\right\\}$ avec $\\Theta=\\mathbb R$.\n",
    "\n",
    "Nous cherchons la solution du problème de minimisation $$\\theta^*=\\underset{\\theta\\in\\Theta}{\\mathrm{argmin}}\\, \\langle \\psi_\\theta|H|\\psi_\\theta\\rangle.$$\n",
    "Si la famille $X$ est bien choisie, nous avons l'égalité \n",
    "$$|\\psi_{\\theta^*}\\rangle=|\\phi_{GS}\\rangle$$\n"
   ]
  },
  {
   "attachments": {},
   "cell_type": "markdown",
   "metadata": {
    "id": "_uk_qDPCy5uk"
   },
   "source": [
    "## Exercice 1.(Sur papier)\n",
    "\n",
    "Soit $J=1$, considérons l'ansatz définie par:\n",
    "$$|\\psi_\\theta\\rangle = \\left(\\cos\\frac{\\alpha}{2} |0\\rangle + \\sin\\frac{\\alpha}{2}|1\\rangle\\right)\\otimes\\left(\\cos\\frac{\\beta}{2} |0\\rangle + \\sin\\frac{\\beta}{2}|1\\rangle\\right)$$\n",
    "avec $\\theta=(\\alpha,\\beta) \\in \\mathbb R^2$\n",
    "\n",
    "__a) Calculer $E(\\theta)=\\langle\\psi_\\theta|H|\\psi_\\theta\\rangle$.__\n",
    "\n",
    "__b) Calculer le gradient de $E(\\theta)$.__\n",
    "\n",
    "__c) Trouver les $\\theta^*=\\underset{\\theta\\in\\Theta}{\\mathrm{argmin}}\\,E(\\theta)$, à quoi correspondent les états associés?__\n",
    "\n",
    "__d) L'état trouvé est-il l'état fondamental? Justifiez.__"
   ]
  },
  {
   "cell_type": "markdown",
   "metadata": {
    "id": "qXYHnKkkVrvK"
   },
   "source": [
    "# Installation - Google Colab only\n",
    "\n",
    "Nous allons maintenant procéder à l'installation de myQLM, un outil de simulation de circuits quantique."
   ]
  },
  {
   "cell_type": "code",
   "execution_count": null,
   "metadata": {
    "id": "5pz8YDrqy9RZ"
   },
   "outputs": [],
   "source": [
    "!pip install myqlm"
   ]
  },
  {
   "cell_type": "code",
   "execution_count": null,
   "metadata": {
    "id": "3xSiu0W9y_oM"
   },
   "outputs": [],
   "source": [
    "!python -m qat.magics.install"
   ]
  },
  {
   "cell_type": "markdown",
   "metadata": {
    "id": "OFQY-UpzVcOc"
   },
   "source": [
    "$\\color{red}{\\large\\text{Afin de pouvoir afficher les circuits, relancer le runtime en cliquant sur le menu \"Runtime\" et sur l'option \"Restart Runtime\"}}$"
   ]
  },
  {
   "cell_type": "markdown",
   "metadata": {
    "id": "Bz55vpgpy5ul"
   },
   "source": [
    "## Exercice 2\n",
    "Le code suivant construit un circuit simple qui nous servira d'ansatz:"
   ]
  },
  {
   "cell_type": "code",
   "execution_count": null,
   "metadata": {
    "colab": {
     "base_uri": "https://localhost:8080/",
     "height": 421
    },
    "id": "Uoy24ifYy5um",
    "outputId": "23af42d1-520d-4a00-d60b-5ceb7a2ae46e"
   },
   "outputs": [],
   "source": [
    "from qat.core import Observable, Term\n",
    "from qat.lang.AQASM import Program, CNOT, H, RX, RY, RZ\n",
    "\n",
    "# Nous créeons une instance de la classe Program, qui permets de construire des circuits quantique en allocant des qubits puis en agissant dessus avec des portes\n",
    "prog = Program()\n",
    "# Fonction d'allocation de qubits, qalloc(2) alloue 2 qubits au program, indexé à partir de 0\n",
    "qbits = prog.qalloc(2)\n",
    "# Instantiation de variables, new_var(float,\"name\") crée une nouvelle variable de type float ayant pour nom: name\n",
    "alpha = prog.new_var(float, \"\\\\alpha\")\n",
    "beta = prog.new_var(float, \"\\\\beta\")\n",
    "# Application de Porte, apply(gate,index_list) applique la porte gate aux qubits indexé par index_list\n",
    "prog.apply(RY(alpha), qbits[0])\n",
    "\n",
    "##-------------\n",
    "##Répondre à a) ici\n",
    "\n",
    "\n",
    "\n",
    "##-------------\n",
    "# Construction d'un circuit à partir du program\n",
    "tensor_product_circuit = prog.to_circ()\n",
    "\n",
    "%qatdisplay tensor_product_circuit --svg"
   ]
  },
  {
   "cell_type": "markdown",
   "metadata": {
    "id": "ltrUMBShy5un"
   },
   "source": [
    "__a) Appliquer une RY au second qubit dans le code ci-dessus. Vérifiez le circuit en sortie.__\n",
    "\n",
    "Nous allons maintenant utiliser l'ansatz ci-dessus pour trouvez les paramètres minimisant l'énergie de l'exercice 1"
   ]
  },
  {
   "cell_type": "markdown",
   "metadata": {
    "id": "waRMbRMoy5uo"
   },
   "source": [
    "Nous construisons d'abord l'observable associée à $H$ pour $J=1$.\n",
    "Pour cela, nous utilisons les classes Observable et Term de myQLM:\n",
    "\n",
    "Observable(N_qubits, pauli_terms) construit une observable à N_qubits qubits ayant pour termes de Paulis pauli_terms.\n",
    "\n",
    "Les termes de Pauli sont défini par une chaine de caractère de la forme \"PQR\"et une liste de nombre [k,n,m] encodant le terme de Pauli ainsi $\\text{Term(1.,\"PQR\",[k,n,m])}=\\sigma^P_k\\cdot\\sigma^P_n\\cdot\\sigma^R_m$"
   ]
  },
  {
   "cell_type": "code",
   "execution_count": null,
   "metadata": {
    "id": "s4jbFXnSy5uo"
   },
   "outputs": [],
   "source": [
    "J=1\n",
    "H_XYZ = Observable(2, \n",
    "                  pauli_terms=[Term(1., \"XX\", [0, 1]),\n",
    "                               Term(1., \"YY\", [0, 1]),\n",
    "                               Term(1., \"ZZ\", [0, 1])]\n",
    "                  )\n",
    "# Nous multiplions le Hamiltonien par le coefficient global J\n",
    "H_S = J*H_XYZ"
   ]
  },
  {
   "cell_type": "markdown",
   "metadata": {
    "id": "C7WjsqD6y5uo"
   },
   "source": [
    "Nous utilisons maintenant un optimiseur de la librairie de calcul scientifique scipy pour minimiser notre énergie."
   ]
  },
  {
   "cell_type": "markdown",
   "metadata": {
    "id": "t18T06rSy5up"
   },
   "source": [
    "Nous choisissons notre ansatz:"
   ]
  },
  {
   "cell_type": "code",
   "execution_count": null,
   "metadata": {
    "id": "jps1nvuOy5up"
   },
   "outputs": [],
   "source": [
    "ansatz_circuit = tensor_product_circuit\n",
    "\n",
    "# Paramètres initiaux\n",
    "theta0 = [0.5,0.4]\n"
   ]
  },
  {
   "cell_type": "code",
   "execution_count": null,
   "metadata": {
    "colab": {
     "base_uri": "https://localhost:8080/",
     "height": 476
    },
    "id": "-4mOM0_yy5up",
    "outputId": "54c67ecf-610e-4f8c-bd67-2597f3c81089"
   },
   "outputs": [],
   "source": [
    "from qat.plugins import ScipyMinimizePlugin\n",
    "from qat.pylinalg import PyLinalg\n",
    "\n",
    "\n",
    "linalg_qpu = PyLinalg()\n",
    "\n",
    "optimizer_scipy = ScipyMinimizePlugin(method=\"COBYLA\",\n",
    "                                      x0=theta0,\n",
    "                                      tol=1e-3,\n",
    "                                      options={\"maxiter\": 2000})\n",
    "\n",
    "qpu = optimizer_scipy | linalg_qpu\n",
    "\n",
    "job = ansatz_circuit.to_job(job_type=\"OBS\", observable=H_S)\n",
    "\n",
    "result = qpu.submit(job)\n",
    "\n",
    "print(\"Minimum energy =\", result.value)\n",
    "print(\"Optimal angles =\", result.meta_data[\"parameters\"])\n",
    "#print(\"==========Optimization data=============\\n\", result.meta_data['optimization_trace'])\n",
    "\n",
    "%matplotlib inline\n",
    "import matplotlib.pyplot as plt\n",
    "plt.figure(figsize=(1.618*6,6))\n",
    "plt.plot(eval(result.meta_data['optimization_trace']),lw=3)\n",
    "plt.xlabel(\"Steps\")\n",
    "plt.ylabel(\"Energy\")\n",
    "plt.grid()\n",
    "plt.legend()"
   ]
  },
  {
   "cell_type": "markdown",
   "metadata": {
    "id": "faClcwciy5uq"
   },
   "source": [
    "Par ailleurs, nous pouvons trouver l'énergie fondamentale par une diagonalisation de la matrice $H$"
   ]
  },
  {
   "cell_type": "code",
   "execution_count": null,
   "metadata": {
    "colab": {
     "base_uri": "https://localhost:8080/"
    },
    "id": "W3W4h3r0y5uq",
    "outputId": "3bdf7898-d26b-45ee-eee6-0770d8edff44"
   },
   "outputs": [],
   "source": [
    "import numpy as np\n",
    "# Définissons les matrices de Pauli\n",
    "s_I=np.eye(2)\n",
    "s_X=np.asarray([[0,1],[1,0]])\n",
    "s_Y=np.asarray([[0,-1j],[1j,0]])\n",
    "s_Z=np.asarray([[1,0],[0,-1]])\n",
    "\n",
    "# Nous construisons la matrice associée au Hamiltonien\n",
    "H_XYZ_matrix = (np.kron(s_X,s_X) + np.kron(s_Y,s_Y) + np.kron(s_Z,s_Z))\n",
    "\n",
    "H_matrix = J*H_XYZ_matrix\n",
    "# Nous diagonalisons la matrice\n",
    "eigvals, eigvecs = np.linalg.eigh(H_matrix)\n",
    "print(\"Exact ground state energy: \", min(eigvals))\n",
    "print(f\"Ground state: {eigvecs[:,0]}\")"
   ]
  },
  {
   "cell_type": "markdown",
   "metadata": {
    "id": "v7_MWnTXy5ur"
   },
   "source": [
    "Nous n'obtenons pas l'énergie fondamentale à travers la minimisation, l'ansatz semble donc mal adapté pour ce Hamiltonien.\n",
    "\n",
    "__b) A quoi correspond l'état fondamental? Pourquoi n'atteint-on pas cet état avec notre ansatz tensor_product_ansatz? Justifiez.__"
   ]
  },
  {
   "cell_type": "markdown",
   "metadata": {
    "id": "xGaEtAZry5ur"
   },
   "source": [
    "Nous construisons maintenant un autre ansatz GS_ansatz_circuit qui aura pour but de repliqué l'état fondamental:"
   ]
  },
  {
   "cell_type": "code",
   "execution_count": null,
   "metadata": {
    "colab": {
     "base_uri": "https://localhost:8080/",
     "height": 421
    },
    "id": "wL_LUG-ny5ur",
    "outputId": "6ce74835-da76-4298-84f1-d27d0b456cc0"
   },
   "outputs": [],
   "source": [
    "from qat.core import Observable, Term\n",
    "from qat.lang.AQASM import Program, CNOT, H, RX, RY, RZ\n",
    "\n",
    "prog = Program()\n",
    "qbits = prog.qalloc(2)\n",
    "alpha = prog.new_var(float, \"\\\\alpha\")\n",
    "beta = prog.new_var(float, \"\\\\beta\")\n",
    "gamma = prog.new_var(float, \"\\\\gamma\")\n",
    "##-------------\n",
    "## Répondre à c) ici\n",
    "## Ajouter des portes afin d'obtenir votre ansatz, vous disposez des portes  CNOT, H, RX, RY, RZ\n",
    "\n",
    "\n",
    "\n",
    "##-------------\n",
    "\n",
    "GS_ansatz_circuit = prog.to_circ()\n",
    "\n",
    "%qatdisplay GS_ansatz_circuit --svg"
   ]
  },
  {
   "cell_type": "markdown",
   "metadata": {
    "id": "mOO2RY7fy5ur"
   },
   "source": [
    "\n",
    "__c) Modifier GS_ansatz_circuit afin de pouvoir construire l'état fondamental.__\n",
    "\n",
    "__d) Remplacer l'ansatz utilisé dans le calcul varationnel par GS_ansatz_circuit et relancer le calcul, converge-t-on vers l'énergie fondamentale?__\n",
    "\n",
    "__e) Répéter le calcul pour $J=-1$ pour chacun des ansatz, que pouvez vous en déduire sur le modèle de Heisenberg?__"
   ]
  },
  {
   "cell_type": "markdown",
   "metadata": {
    "id": "RUVHIiTxy5us"
   },
   "source": [
    "## Exercice 3 - Transition de Phase\n",
    "Nous ajoutons maintenant au Hamiltonien un terme dû à un champ magnétique externe orienté selon l'axe Z.\n",
    "$$ H = J\\left(\\sigma^X_1 \\sigma^X_2 + \\sigma^Y_1 \\sigma^Y_2 + \\sigma^Z_1 \\sigma^Z_2\\right) + h_B\\left(\\sigma^Z_1+ \\sigma^Z_2\\right)$$\n",
    "avec $h_B\\geq 0$\n",
    "\n",
    "__a) Définir l'observable__ $H_Z=\\sigma^Z_1+\\sigma^Z_2$ "
   ]
  },
  {
   "cell_type": "code",
   "execution_count": null,
   "metadata": {
    "id": "BYOeCeBVy5us"
   },
   "outputs": [],
   "source": [
    "H_Z = Observable(2,pauli_terms=[\n",
    "                 ##-------------\n",
    "                 ## Ajouter les termes ici\n",
    "                 \n",
    "                 \n",
    "                 ##-------------   \n",
    "                 ])\n"
   ]
  },
  {
   "cell_type": "code",
   "execution_count": null,
   "metadata": {
    "id": "cbUq3Runy5ut"
   },
   "outputs": [],
   "source": [
    "H_Z_matrix = np.kron(s_Z,s_I) + np.kron(s_I,s_Z)"
   ]
  },
  {
   "cell_type": "markdown",
   "metadata": {
    "id": "kLb2n6M2y5ut"
   },
   "source": [
    "Nous définissons ici l'ansatz pour cet exercice:"
   ]
  },
  {
   "cell_type": "code",
   "execution_count": null,
   "metadata": {
    "id": "-4Mp-MI4y5ut"
   },
   "outputs": [],
   "source": [
    "\n",
    "#Paramètres initiaux\n",
    "theta0 = [0.4, -0.3, 0.6]\n",
    "\n",
    "# Circuit ansatz\n",
    "prog = Program()\n",
    "qbits = prog.qalloc(2)\n",
    "alpha = prog.new_var(float, \"\\\\alpha\")\n",
    "beta = prog.new_var(float, \"\\\\beta\")\n",
    "gamma = prog.new_var(float, \"\\\\gamma\")\n",
    "\n",
    "## Pour commencer, copier ici l'ansatz que vous avez construit dans GS_ansatz_circuit\n",
    "\n",
    "\n",
    "\n",
    "ansatz_circuit = prog.to_circ()"
   ]
  },
  {
   "cell_type": "code",
   "execution_count": null,
   "metadata": {},
   "outputs": [],
   "source": [
    "%qatdisplay ansatz_circuit --svg"
   ]
  },
  {
   "cell_type": "markdown",
   "metadata": {
    "id": "CfDpq0J1y5uu"
   },
   "source": [
    "Nous allons maintenant calculer le spectre du Hamiltonien ainsi que l'énergie minimum pour notre ansatz pour des valeurs de $J\\in[-2, 2]$ avec $h_B$ fixé à 2."
   ]
  },
  {
   "cell_type": "code",
   "execution_count": null,
   "metadata": {
    "colab": {
     "base_uri": "https://localhost:8080/"
    },
    "id": "pjLQVdaWy5uu",
    "outputId": "b82e6785-2016-4bbb-a72c-ca3a125ffcd3"
   },
   "outputs": [],
   "source": [
    "results=[]\n",
    "results_vec=[]\n",
    "results_eigvals=[]\n",
    "results_eigvecs=[]\n",
    "\n",
    "\n",
    "J_values=np.linspace(-2,2,101)\n",
    "h_B=2\n",
    "\n",
    "for i,j in enumerate(J_values):\n",
    "\n",
    "    H_tot=j * H_XYZ + h_B * H_Z\n",
    "    \n",
    "    optimizer_scipy = ScipyMinimizePlugin(method=\"COBYLA\",\n",
    "                                          x0=theta0,\n",
    "                                          tol=1e-3,\n",
    "                                          options={\"maxiter\": 20000})\n",
    "\n",
    "    qpu = optimizer_scipy | linalg_qpu\n",
    "    job = ansatz_circuit.to_job(job_type=\"OBS\", observable=H_tot)\n",
    "    \n",
    "    result = qpu.submit(job)\n",
    "    results.append(result.value)\n",
    "    \n",
    "    sol_vec_data=linalg_qpu.submit(ansatz_circuit.to_job()(**result.parameter_map))\n",
    "    sol_vec=np.asarray([dat._amplitude.re+1j*dat._amplitude.im for dat in sol_vec_data.raw_data])\n",
    "    results_vec.append(sol_vec)\n",
    "    H_tot_matrix = j * H_XYZ_matrix + h_B * H_Z_matrix\n",
    "\n",
    "    eigvals, eigvecs = np.linalg.eigh(H_tot_matrix)\n",
    "    results_eigvals.append(eigvals)\n",
    "    results_eigvecs.append(eigvecs)\n",
    "    if i % 20 == 0 :print(f\"Step {i}, J={j} Minimum energy =\", result.value)"
   ]
  },
  {
   "cell_type": "code",
   "execution_count": null,
   "metadata": {
    "colab": {
     "base_uri": "https://localhost:8080/",
     "height": 392
    },
    "id": "lHOLbT4qy5uu",
    "outputId": "14266f19-4044-4050-9d30-f93e22639c80"
   },
   "outputs": [],
   "source": [
    "plt.figure(figsize=(1.618*6,6))\n",
    "for k,E in enumerate(np.asarray(results_eigvals).transpose()):\n",
    "    plt.plot(J_values,E,lw=3,label=f\"$E_{k}$\")\n",
    "plt.plot(J_values,results,\"k:\",lw=3,label=r\"$|\\psi_\\theta\\rangle$\")\n",
    "\n",
    "plt.ylabel(r\"$E=J\\cdot H_{XYZ}+h_B\\cdot H_Z$\")\n",
    "plt.xlabel(\"$J$\")\n",
    "plt.legend()\n",
    "plt.grid()"
   ]
  },
  {
   "cell_type": "markdown",
   "metadata": {
    "id": "lppHSzYHy5uv"
   },
   "source": [
    "__a) Que pouvez vous dire sur l'état fondamental du système pour différentes valeurs de $J$?__\n",
    "\n",
    "__b) A quoi correspondent les croisements des courbes?__\n",
    "\n",
    "__c) L'ansatz est-il adapté à toutes les valeurs de $J$?__\n",
    "\n",
    "__d) Modifier l'ansatz afin de trouver l'état fondamental du système pour toute valeurs de $J$.__\n",
    "\n",
    "__e) Changer la valeur de $h_B\\in[-2,2]$, quel est l'effet de $h_B$ sur les valeurs propres?__\n"
   ]
  }
 ],
 "metadata": {
  "colab": {
   "provenance": []
  },
  "kernelspec": {
   "display_name": "Python 3",
   "language": "python",
   "name": "python3"
  },
  "language_info": {
   "codemirror_mode": {
    "name": "ipython",
    "version": 3
   },
   "file_extension": ".py",
   "mimetype": "text/x-python",
   "name": "python",
   "nbconvert_exporter": "python",
   "pygments_lexer": "ipython3",
   "version": "3.9.16"
  },
  "tags": [
   "variational"
  ]
 },
 "nbformat": 4,
 "nbformat_minor": 4
}
